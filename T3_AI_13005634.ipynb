{
 "cells": [
  {
   "cell_type": "code",
   "execution_count": 125,
   "metadata": {},
   "outputs": [],
   "source": [
    "#Realiza os imports necessários\n",
    "import numpy  as  np\n",
    "import pandas as  pd\n",
    "import matplotlib.pyplot as plt\n",
    "from sklearn.ensemble import GradientBoostingRegressor\n",
    "from sklearn.model_selection import train_test_split"
   ]
  },
  {
   "cell_type": "code",
   "execution_count": 126,
   "metadata": {},
   "outputs": [],
   "source": [
    "#Lê dataset por meio do csv\n",
    "data = pd.read_csv('precos_casa_california.csv')"
   ]
  },
  {
   "cell_type": "code",
   "execution_count": 127,
   "metadata": {},
   "outputs": [
    {
     "data": {
      "text/html": [
       "<div>\n",
       "<style scoped>\n",
       "    .dataframe tbody tr th:only-of-type {\n",
       "        vertical-align: middle;\n",
       "    }\n",
       "\n",
       "    .dataframe tbody tr th {\n",
       "        vertical-align: top;\n",
       "    }\n",
       "\n",
       "    .dataframe thead th {\n",
       "        text-align: right;\n",
       "    }\n",
       "</style>\n",
       "<table border=\"1\" class=\"dataframe\">\n",
       "  <thead>\n",
       "    <tr style=\"text-align: right;\">\n",
       "      <th></th>\n",
       "      <th>longitude</th>\n",
       "      <th>latitude</th>\n",
       "      <th>housing_median_age</th>\n",
       "      <th>total_rooms</th>\n",
       "      <th>total_bedrooms</th>\n",
       "      <th>population</th>\n",
       "      <th>households</th>\n",
       "      <th>median_income</th>\n",
       "      <th>median_house_value</th>\n",
       "      <th>ocean_proximity</th>\n",
       "    </tr>\n",
       "  </thead>\n",
       "  <tbody>\n",
       "    <tr>\n",
       "      <th>0</th>\n",
       "      <td>-122.23</td>\n",
       "      <td>37.88</td>\n",
       "      <td>41.0</td>\n",
       "      <td>880.0</td>\n",
       "      <td>129.0</td>\n",
       "      <td>322.0</td>\n",
       "      <td>126.0</td>\n",
       "      <td>8.3252</td>\n",
       "      <td>452600.0</td>\n",
       "      <td>NEAR BAY</td>\n",
       "    </tr>\n",
       "    <tr>\n",
       "      <th>1</th>\n",
       "      <td>-122.25</td>\n",
       "      <td>37.85</td>\n",
       "      <td>52.0</td>\n",
       "      <td>919.0</td>\n",
       "      <td></td>\n",
       "      <td>413.0</td>\n",
       "      <td></td>\n",
       "      <td>4.0368</td>\n",
       "      <td>269700.0</td>\n",
       "      <td>NEAR BAY</td>\n",
       "    </tr>\n",
       "    <tr>\n",
       "      <th>2</th>\n",
       "      <td>-122.25</td>\n",
       "      <td>37.84</td>\n",
       "      <td>52.0</td>\n",
       "      <td>2535.0</td>\n",
       "      <td>489.0</td>\n",
       "      <td>1094.0</td>\n",
       "      <td>514.0</td>\n",
       "      <td>3.6591</td>\n",
       "      <td>299200.0</td>\n",
       "      <td>NEAR BAY</td>\n",
       "    </tr>\n",
       "    <tr>\n",
       "      <th>3</th>\n",
       "      <td>-122.25</td>\n",
       "      <td>37.84</td>\n",
       "      <td>52.0</td>\n",
       "      <td>3104.0</td>\n",
       "      <td>687.0</td>\n",
       "      <td>1157.0</td>\n",
       "      <td>647.0</td>\n",
       "      <td>3.1200</td>\n",
       "      <td>241400.0</td>\n",
       "      <td>NEAR BAY</td>\n",
       "    </tr>\n",
       "    <tr>\n",
       "      <th>4</th>\n",
       "      <td>-122.26</td>\n",
       "      <td>37.84</td>\n",
       "      <td>42.0</td>\n",
       "      <td>2555.0</td>\n",
       "      <td>665.0</td>\n",
       "      <td>1206.0</td>\n",
       "      <td>595.0</td>\n",
       "      <td>2.0804</td>\n",
       "      <td>226700.0</td>\n",
       "      <td>NEAR BAY</td>\n",
       "    </tr>\n",
       "  </tbody>\n",
       "</table>\n",
       "</div>"
      ],
      "text/plain": [
       "  longitude  latitude housing_median_age total_rooms total_bedrooms  \\\n",
       "0   -122.23     37.88               41.0       880.0          129.0   \n",
       "1   -122.25     37.85               52.0       919.0                  \n",
       "2   -122.25     37.84               52.0      2535.0          489.0   \n",
       "3   -122.25     37.84               52.0      3104.0          687.0   \n",
       "4   -122.26     37.84               42.0      2555.0          665.0   \n",
       "\n",
       "  population households  median_income median_house_value ocean_proximity  \n",
       "0      322.0      126.0         8.3252           452600.0        NEAR BAY  \n",
       "1      413.0                    4.0368           269700.0        NEAR BAY  \n",
       "2     1094.0      514.0         3.6591           299200.0        NEAR BAY  \n",
       "3     1157.0      647.0         3.1200           241400.0        NEAR BAY  \n",
       "4     1206.0      595.0         2.0804           226700.0        NEAR BAY  "
      ]
     },
     "execution_count": 127,
     "metadata": {},
     "output_type": "execute_result"
    }
   ],
   "source": [
    "#Imprime as primeiras n linhas do dataset\n",
    "data.head()"
   ]
  },
  {
   "cell_type": "code",
   "execution_count": 128,
   "metadata": {},
   "outputs": [
    {
     "name": "stdout",
     "output_type": "stream",
     "text": [
      "<class 'pandas.core.frame.DataFrame'>\n",
      "RangeIndex: 20445 entries, 0 to 20444\n",
      "Data columns (total 10 columns):\n",
      "longitude             20445 non-null object\n",
      "latitude              20445 non-null float64\n",
      "housing_median_age    20445 non-null object\n",
      "total_rooms           20445 non-null object\n",
      "total_bedrooms        20241 non-null object\n",
      "population            20445 non-null object\n",
      "households            20445 non-null object\n",
      "median_income         20444 non-null float64\n",
      "median_house_value    20445 non-null object\n",
      "ocean_proximity       20445 non-null object\n",
      "dtypes: float64(2), object(8)\n",
      "memory usage: 1.6+ MB\n"
     ]
    }
   ],
   "source": [
    "#Imprime todas as informações sobre o dataset como: tipos de coluna, valores não nulos e uso da memória.\n",
    "data.info()"
   ]
  },
  {
   "cell_type": "code",
   "execution_count": 129,
   "metadata": {},
   "outputs": [],
   "source": [
    "#Valores nulos do dataset são substituídos por NaN.\n",
    "data = data.replace(' ',np.nan)"
   ]
  },
  {
   "cell_type": "code",
   "execution_count": 130,
   "metadata": {},
   "outputs": [],
   "source": [
    "#Remova os valores ausentes (NaN).\n",
    "data = data.dropna()"
   ]
  },
  {
   "cell_type": "code",
   "execution_count": 131,
   "metadata": {},
   "outputs": [
    {
     "data": {
      "text/plain": [
       "<1H OCEAN     8968\n",
       "INLAND        6465\n",
       "NEAR OCEAN    2534\n",
       "NEAR BAY      2242\n",
       "ISLAND           5\n",
       "Name: ocean_proximity, dtype: int64"
      ]
     },
     "execution_count": 131,
     "metadata": {},
     "output_type": "execute_result"
    }
   ],
   "source": [
    "#Retorna as contagens de valores exclusivos da coluna ocean_proximity.\n",
    "data['ocean_proximity'].value_counts()"
   ]
  },
  {
   "cell_type": "code",
   "execution_count": 132,
   "metadata": {},
   "outputs": [],
   "source": [
    "#Mapea os campos da coluna ocean_proximity, associando um objeto a um valor (0 = mais proximo)\n",
    "dicionario = {'NEAR BAY':0,'<1H OCEAN':1,'INLAND':2,'NEAR OCEAN':3,'ISLAND':4}"
   ]
  },
  {
   "cell_type": "code",
   "execution_count": 133,
   "metadata": {},
   "outputs": [],
   "source": [
    "#Valores da coluna ocean_proximity do dataset são substituídos pelos valores do dicionario.\n",
    "data = data.replace({\"ocean_proximity\":dicionario})"
   ]
  },
  {
   "cell_type": "code",
   "execution_count": 134,
   "metadata": {},
   "outputs": [],
   "source": [
    "#Converte todo o dataset para tipo numerico\n",
    "data = data.apply(pd.to_numeric)"
   ]
  },
  {
   "cell_type": "code",
   "execution_count": 135,
   "metadata": {},
   "outputs": [
    {
     "data": {
      "text/html": [
       "<div>\n",
       "<style scoped>\n",
       "    .dataframe tbody tr th:only-of-type {\n",
       "        vertical-align: middle;\n",
       "    }\n",
       "\n",
       "    .dataframe tbody tr th {\n",
       "        vertical-align: top;\n",
       "    }\n",
       "\n",
       "    .dataframe thead th {\n",
       "        text-align: right;\n",
       "    }\n",
       "</style>\n",
       "<table border=\"1\" class=\"dataframe\">\n",
       "  <thead>\n",
       "    <tr style=\"text-align: right;\">\n",
       "      <th></th>\n",
       "      <th>count</th>\n",
       "      <th>mean</th>\n",
       "      <th>std</th>\n",
       "      <th>min</th>\n",
       "      <th>25%</th>\n",
       "      <th>50%</th>\n",
       "      <th>75%</th>\n",
       "      <th>max</th>\n",
       "    </tr>\n",
       "  </thead>\n",
       "  <tbody>\n",
       "    <tr>\n",
       "      <th>longitude</th>\n",
       "      <td>20214.0</td>\n",
       "      <td>-119.580610</td>\n",
       "      <td>2.001808</td>\n",
       "      <td>-124.3500</td>\n",
       "      <td>-121.80000</td>\n",
       "      <td>-118.51000</td>\n",
       "      <td>-118.0100</td>\n",
       "      <td>-1.143100e+02</td>\n",
       "    </tr>\n",
       "    <tr>\n",
       "      <th>latitude</th>\n",
       "      <td>20214.0</td>\n",
       "      <td>35.642652</td>\n",
       "      <td>2.129135</td>\n",
       "      <td>32.5400</td>\n",
       "      <td>33.94000</td>\n",
       "      <td>34.26000</td>\n",
       "      <td>37.7200</td>\n",
       "      <td>4.195000e+01</td>\n",
       "    </tr>\n",
       "    <tr>\n",
       "      <th>housing_median_age</th>\n",
       "      <td>20214.0</td>\n",
       "      <td>28.653804</td>\n",
       "      <td>13.591381</td>\n",
       "      <td>1.0000</td>\n",
       "      <td>18.00000</td>\n",
       "      <td>29.00000</td>\n",
       "      <td>37.0000</td>\n",
       "      <td>7.500000e+02</td>\n",
       "    </tr>\n",
       "    <tr>\n",
       "      <th>total_rooms</th>\n",
       "      <td>20214.0</td>\n",
       "      <td>2641.796972</td>\n",
       "      <td>2193.500286</td>\n",
       "      <td>2.0000</td>\n",
       "      <td>1449.00000</td>\n",
       "      <td>2127.00000</td>\n",
       "      <td>3150.0000</td>\n",
       "      <td>3.932000e+04</td>\n",
       "    </tr>\n",
       "    <tr>\n",
       "      <th>total_bedrooms</th>\n",
       "      <td>20214.0</td>\n",
       "      <td>538.529138</td>\n",
       "      <td>422.608123</td>\n",
       "      <td>1.0000</td>\n",
       "      <td>296.00000</td>\n",
       "      <td>435.00000</td>\n",
       "      <td>647.0000</td>\n",
       "      <td>6.445000e+03</td>\n",
       "    </tr>\n",
       "    <tr>\n",
       "      <th>population</th>\n",
       "      <td>20214.0</td>\n",
       "      <td>1425.575740</td>\n",
       "      <td>1135.425067</td>\n",
       "      <td>3.0000</td>\n",
       "      <td>786.25000</td>\n",
       "      <td>1166.00000</td>\n",
       "      <td>1723.7500</td>\n",
       "      <td>3.568200e+04</td>\n",
       "    </tr>\n",
       "    <tr>\n",
       "      <th>households</th>\n",
       "      <td>20214.0</td>\n",
       "      <td>499.948600</td>\n",
       "      <td>383.364626</td>\n",
       "      <td>1.0000</td>\n",
       "      <td>280.00000</td>\n",
       "      <td>409.00000</td>\n",
       "      <td>605.0000</td>\n",
       "      <td>6.082000e+03</td>\n",
       "    </tr>\n",
       "    <tr>\n",
       "      <th>median_income</th>\n",
       "      <td>20214.0</td>\n",
       "      <td>3.877064</td>\n",
       "      <td>1.902906</td>\n",
       "      <td>0.4999</td>\n",
       "      <td>2.56565</td>\n",
       "      <td>3.54215</td>\n",
       "      <td>4.7569</td>\n",
       "      <td>1.500010e+01</td>\n",
       "    </tr>\n",
       "    <tr>\n",
       "      <th>median_house_value</th>\n",
       "      <td>20214.0</td>\n",
       "      <td>211729.734491</td>\n",
       "      <td>643603.742457</td>\n",
       "      <td>0.0000</td>\n",
       "      <td>119800.00000</td>\n",
       "      <td>180550.00000</td>\n",
       "      <td>265300.0000</td>\n",
       "      <td>9.022130e+07</td>\n",
       "    </tr>\n",
       "    <tr>\n",
       "      <th>ocean_proximity</th>\n",
       "      <td>20214.0</td>\n",
       "      <td>1.460374</td>\n",
       "      <td>0.849996</td>\n",
       "      <td>0.0000</td>\n",
       "      <td>1.00000</td>\n",
       "      <td>1.00000</td>\n",
       "      <td>2.0000</td>\n",
       "      <td>4.000000e+00</td>\n",
       "    </tr>\n",
       "  </tbody>\n",
       "</table>\n",
       "</div>"
      ],
      "text/plain": [
       "                      count           mean            std       min  \\\n",
       "longitude           20214.0    -119.580610       2.001808 -124.3500   \n",
       "latitude            20214.0      35.642652       2.129135   32.5400   \n",
       "housing_median_age  20214.0      28.653804      13.591381    1.0000   \n",
       "total_rooms         20214.0    2641.796972    2193.500286    2.0000   \n",
       "total_bedrooms      20214.0     538.529138     422.608123    1.0000   \n",
       "population          20214.0    1425.575740    1135.425067    3.0000   \n",
       "households          20214.0     499.948600     383.364626    1.0000   \n",
       "median_income       20214.0       3.877064       1.902906    0.4999   \n",
       "median_house_value  20214.0  211729.734491  643603.742457    0.0000   \n",
       "ocean_proximity     20214.0       1.460374       0.849996    0.0000   \n",
       "\n",
       "                             25%           50%          75%           max  \n",
       "longitude             -121.80000    -118.51000    -118.0100 -1.143100e+02  \n",
       "latitude                33.94000      34.26000      37.7200  4.195000e+01  \n",
       "housing_median_age      18.00000      29.00000      37.0000  7.500000e+02  \n",
       "total_rooms           1449.00000    2127.00000    3150.0000  3.932000e+04  \n",
       "total_bedrooms         296.00000     435.00000     647.0000  6.445000e+03  \n",
       "population             786.25000    1166.00000    1723.7500  3.568200e+04  \n",
       "households             280.00000     409.00000     605.0000  6.082000e+03  \n",
       "median_income            2.56565       3.54215       4.7569  1.500010e+01  \n",
       "median_house_value  119800.00000  180550.00000  265300.0000  9.022130e+07  \n",
       "ocean_proximity          1.00000       1.00000       2.0000  4.000000e+00  "
      ]
     },
     "execution_count": 135,
     "metadata": {},
     "output_type": "execute_result"
    }
   ],
   "source": [
    "#Gera estatísticas do dataset, como: contagem, media, min, max.\n",
    "data.describe().transpose()"
   ]
  },
  {
   "cell_type": "code",
   "execution_count": 136,
   "metadata": {
    "scrolled": true
   },
   "outputs": [
    {
     "data": {
      "image/png": "[encoded data removed]",
      "text/plain": [
       "<Figure size 1080x720 with 12 Axes>"
      ]
     },
     "metadata": {},
     "output_type": "display_data"
    }
   ],
   "source": [
    "#Imprime um histograma (representação dos dados) do dataset\n",
    "%matplotlib inline\n",
    "data.hist(bins=50,figsize=(15,10))\n",
    "plt.show()"
   ]
  },
  {
   "cell_type": "code",
   "execution_count": 137,
   "metadata": {},
   "outputs": [],
   "source": [
    "#Preparando os dados de treinamento\n",
    "data_labels = data['median_house_value']\n",
    "data = data.drop('median_house_value',axis=1)\n",
    "\n",
    "data_prepared = data\n",
    "y_train = data_labels.copy()"
   ]
  },
  {
   "cell_type": "code",
   "execution_count": 138,
   "metadata": {},
   "outputs": [
    {
     "name": "stdout",
     "output_type": "stream",
     "text": [
      "0.7453377250982773\n"
     ]
    }
   ],
   "source": [
    "#Treinando e Construindo Modelo de Decision Three\n",
    "\n",
    "X_train, X_test, y_train, y_test = train_test_split(data_prepared, data_labels, test_size = 0.2, random_state = 7)\n",
    "\n",
    "model = GradientBoostingRegressor()\n",
    "\n",
    "model.fit(X_train, y_train)\n",
    "\n",
    "score = model.score(X_test, y_test)\n",
    "\n",
    "print(score)"
   ]
  },
  {
   "cell_type": "code",
   "execution_count": null,
   "metadata": {},
   "outputs": [],
   "source": []
  }
 ],
 "metadata": {
  "kernelspec": {
   "display_name": "Python 3",
   "language": "python",
   "name": "python3"
  },
  "language_info": {
   "codemirror_mode": {
    "name": "ipython",
    "version": 3
   },
   "file_extension": ".py",
   "mimetype": "text/x-python",
   "name": "python",
   "nbconvert_exporter": "python",
   "pygments_lexer": "ipython3",
   "version": "3.6.5"
  }
 },
 "nbformat": 4,
 "nbformat_minor": 2
}
